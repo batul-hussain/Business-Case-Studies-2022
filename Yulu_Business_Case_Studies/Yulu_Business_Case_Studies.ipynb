{
  "nbformat": 4,
  "nbformat_minor": 0,
  "metadata": {
    "colab": {
      "provenance": [],
      "authorship_tag": "ABX9TyORKqF6g/mqQhbPPj8Eqz3c",
      "include_colab_link": true
    },
    "kernelspec": {
      "name": "python3",
      "display_name": "Python 3"
    },
    "language_info": {
      "name": "python"
    }
  },
  "cells": [
    {
      "cell_type": "markdown",
      "metadata": {
        "id": "view-in-github",
        "colab_type": "text"
      },
      "source": [
        "<a href=\"https://colab.research.google.com/github/batul-hussain/Business-Case-Studies-2022/blob/main/Yulu_Business_Case_Studies/Yulu_Business_Case_Studies.ipynb\" target=\"_parent\"><img src=\"https://colab.research.google.com/assets/colab-badge.svg\" alt=\"Open In Colab\"/></a>"
      ]
    },
    {
      "cell_type": "code",
      "execution_count": null,
      "metadata": {
        "id": "BaTnwq6D4ZLm"
      },
      "outputs": [],
      "source": [
        "import numpy as np\n",
        "import pandas as pd\n",
        "import matplotlib.pyplot as plt\n",
        "import seaborn as sns\n",
        "import io\n",
        "import statistics\n",
        "import math\n",
        "import scipy.stats as stats\n",
        "from scipy.stats import f_oneway"
      ]
    },
    {
      "cell_type": "code",
      "source": [
        "from google.colab import files\n",
        "uploaded = files.upload()"
      ],
      "metadata": {
        "colab": {
          "base_uri": "https://localhost:8080/",
          "height": 75
        },
        "id": "33vdO0ad5CQg",
        "outputId": "5ff15d29-b3a9-47ba-cd2d-3039878d12f2"
      },
      "execution_count": null,
      "outputs": [
        {
          "output_type": "display_data",
          "data": {
            "text/plain": [
              "<IPython.core.display.HTML object>"
            ],
            "text/html": [
              "\n",
              "     <input type=\"file\" id=\"files-57de2469-f8bb-4423-8835-4684674f43eb\" name=\"files[]\" multiple disabled\n",
              "        style=\"border:none\" />\n",
              "     <output id=\"result-57de2469-f8bb-4423-8835-4684674f43eb\">\n",
              "      Upload widget is only available when the cell has been executed in the\n",
              "      current browser session. Please rerun this cell to enable.\n",
              "      </output>\n",
              "      <script>// Copyright 2017 Google LLC\n",
              "//\n",
              "// Licensed under the Apache License, Version 2.0 (the \"License\");\n",
              "// you may not use this file except in compliance with the License.\n",
              "// You may obtain a copy of the License at\n",
              "//\n",
              "//      http://www.apache.org/licenses/LICENSE-2.0\n",
              "//\n",
              "// Unless required by applicable law or agreed to in writing, software\n",
              "// distributed under the License is distributed on an \"AS IS\" BASIS,\n",
              "// WITHOUT WARRANTIES OR CONDITIONS OF ANY KIND, either express or implied.\n",
              "// See the License for the specific language governing permissions and\n",
              "// limitations under the License.\n",
              "\n",
              "/**\n",
              " * @fileoverview Helpers for google.colab Python module.\n",
              " */\n",
              "(function(scope) {\n",
              "function span(text, styleAttributes = {}) {\n",
              "  const element = document.createElement('span');\n",
              "  element.textContent = text;\n",
              "  for (const key of Object.keys(styleAttributes)) {\n",
              "    element.style[key] = styleAttributes[key];\n",
              "  }\n",
              "  return element;\n",
              "}\n",
              "\n",
              "// Max number of bytes which will be uploaded at a time.\n",
              "const MAX_PAYLOAD_SIZE = 100 * 1024;\n",
              "\n",
              "function _uploadFiles(inputId, outputId) {\n",
              "  const steps = uploadFilesStep(inputId, outputId);\n",
              "  const outputElement = document.getElementById(outputId);\n",
              "  // Cache steps on the outputElement to make it available for the next call\n",
              "  // to uploadFilesContinue from Python.\n",
              "  outputElement.steps = steps;\n",
              "\n",
              "  return _uploadFilesContinue(outputId);\n",
              "}\n",
              "\n",
              "// This is roughly an async generator (not supported in the browser yet),\n",
              "// where there are multiple asynchronous steps and the Python side is going\n",
              "// to poll for completion of each step.\n",
              "// This uses a Promise to block the python side on completion of each step,\n",
              "// then passes the result of the previous step as the input to the next step.\n",
              "function _uploadFilesContinue(outputId) {\n",
              "  const outputElement = document.getElementById(outputId);\n",
              "  const steps = outputElement.steps;\n",
              "\n",
              "  const next = steps.next(outputElement.lastPromiseValue);\n",
              "  return Promise.resolve(next.value.promise).then((value) => {\n",
              "    // Cache the last promise value to make it available to the next\n",
              "    // step of the generator.\n",
              "    outputElement.lastPromiseValue = value;\n",
              "    return next.value.response;\n",
              "  });\n",
              "}\n",
              "\n",
              "/**\n",
              " * Generator function which is called between each async step of the upload\n",
              " * process.\n",
              " * @param {string} inputId Element ID of the input file picker element.\n",
              " * @param {string} outputId Element ID of the output display.\n",
              " * @return {!Iterable<!Object>} Iterable of next steps.\n",
              " */\n",
              "function* uploadFilesStep(inputId, outputId) {\n",
              "  const inputElement = document.getElementById(inputId);\n",
              "  inputElement.disabled = false;\n",
              "\n",
              "  const outputElement = document.getElementById(outputId);\n",
              "  outputElement.innerHTML = '';\n",
              "\n",
              "  const pickedPromise = new Promise((resolve) => {\n",
              "    inputElement.addEventListener('change', (e) => {\n",
              "      resolve(e.target.files);\n",
              "    });\n",
              "  });\n",
              "\n",
              "  const cancel = document.createElement('button');\n",
              "  inputElement.parentElement.appendChild(cancel);\n",
              "  cancel.textContent = 'Cancel upload';\n",
              "  const cancelPromise = new Promise((resolve) => {\n",
              "    cancel.onclick = () => {\n",
              "      resolve(null);\n",
              "    };\n",
              "  });\n",
              "\n",
              "  // Wait for the user to pick the files.\n",
              "  const files = yield {\n",
              "    promise: Promise.race([pickedPromise, cancelPromise]),\n",
              "    response: {\n",
              "      action: 'starting',\n",
              "    }\n",
              "  };\n",
              "\n",
              "  cancel.remove();\n",
              "\n",
              "  // Disable the input element since further picks are not allowed.\n",
              "  inputElement.disabled = true;\n",
              "\n",
              "  if (!files) {\n",
              "    return {\n",
              "      response: {\n",
              "        action: 'complete',\n",
              "      }\n",
              "    };\n",
              "  }\n",
              "\n",
              "  for (const file of files) {\n",
              "    const li = document.createElement('li');\n",
              "    li.append(span(file.name, {fontWeight: 'bold'}));\n",
              "    li.append(span(\n",
              "        `(${file.type || 'n/a'}) - ${file.size} bytes, ` +\n",
              "        `last modified: ${\n",
              "            file.lastModifiedDate ? file.lastModifiedDate.toLocaleDateString() :\n",
              "                                    'n/a'} - `));\n",
              "    const percent = span('0% done');\n",
              "    li.appendChild(percent);\n",
              "\n",
              "    outputElement.appendChild(li);\n",
              "\n",
              "    const fileDataPromise = new Promise((resolve) => {\n",
              "      const reader = new FileReader();\n",
              "      reader.onload = (e) => {\n",
              "        resolve(e.target.result);\n",
              "      };\n",
              "      reader.readAsArrayBuffer(file);\n",
              "    });\n",
              "    // Wait for the data to be ready.\n",
              "    let fileData = yield {\n",
              "      promise: fileDataPromise,\n",
              "      response: {\n",
              "        action: 'continue',\n",
              "      }\n",
              "    };\n",
              "\n",
              "    // Use a chunked sending to avoid message size limits. See b/62115660.\n",
              "    let position = 0;\n",
              "    do {\n",
              "      const length = Math.min(fileData.byteLength - position, MAX_PAYLOAD_SIZE);\n",
              "      const chunk = new Uint8Array(fileData, position, length);\n",
              "      position += length;\n",
              "\n",
              "      const base64 = btoa(String.fromCharCode.apply(null, chunk));\n",
              "      yield {\n",
              "        response: {\n",
              "          action: 'append',\n",
              "          file: file.name,\n",
              "          data: base64,\n",
              "        },\n",
              "      };\n",
              "\n",
              "      let percentDone = fileData.byteLength === 0 ?\n",
              "          100 :\n",
              "          Math.round((position / fileData.byteLength) * 100);\n",
              "      percent.textContent = `${percentDone}% done`;\n",
              "\n",
              "    } while (position < fileData.byteLength);\n",
              "  }\n",
              "\n",
              "  // All done.\n",
              "  yield {\n",
              "    response: {\n",
              "      action: 'complete',\n",
              "    }\n",
              "  };\n",
              "}\n",
              "\n",
              "scope.google = scope.google || {};\n",
              "scope.google.colab = scope.google.colab || {};\n",
              "scope.google.colab._files = {\n",
              "  _uploadFiles,\n",
              "  _uploadFilesContinue,\n",
              "};\n",
              "})(self);\n",
              "</script> "
            ]
          },
          "metadata": {}
        },
        {
          "output_type": "stream",
          "name": "stdout",
          "text": [
            "Saving bike_sharing.csv to bike_sharing.csv\n"
          ]
        }
      ]
    },
    {
      "cell_type": "code",
      "source": [
        "data = pd.read_csv(io.StringIO(uploaded['bike_sharing.csv'].decode('utf-8')))"
      ],
      "metadata": {
        "id": "p6suiARc5G2c"
      },
      "execution_count": null,
      "outputs": []
    },
    {
      "cell_type": "code",
      "source": [
        "data.head()"
      ],
      "metadata": {
        "colab": {
          "base_uri": "https://localhost:8080/",
          "height": 206
        },
        "id": "1t-uXvEl5Yyk",
        "outputId": "70c284ae-dcd0-4e60-f410-f91d65b7aa09"
      },
      "execution_count": null,
      "outputs": [
        {
          "output_type": "execute_result",
          "data": {
            "text/plain": [
              "              datetime  season  holiday  workingday  weather  temp   atemp  \\\n",
              "0  2011-01-01 00:00:00       1        0           0        1  9.84  14.395   \n",
              "1  2011-01-01 01:00:00       1        0           0        1  9.02  13.635   \n",
              "2  2011-01-01 02:00:00       1        0           0        1  9.02  13.635   \n",
              "3  2011-01-01 03:00:00       1        0           0        1  9.84  14.395   \n",
              "4  2011-01-01 04:00:00       1        0           0        1  9.84  14.395   \n",
              "\n",
              "   humidity  windspeed  casual  registered  count  \n",
              "0        81        0.0       3          13     16  \n",
              "1        80        0.0       8          32     40  \n",
              "2        80        0.0       5          27     32  \n",
              "3        75        0.0       3          10     13  \n",
              "4        75        0.0       0           1      1  "
            ],
            "text/html": [
              "\n",
              "  <div id=\"df-40fc2c83-0b4b-4edd-a49d-a0f7095abbcc\">\n",
              "    <div class=\"colab-df-container\">\n",
              "      <div>\n",
              "<style scoped>\n",
              "    .dataframe tbody tr th:only-of-type {\n",
              "        vertical-align: middle;\n",
              "    }\n",
              "\n",
              "    .dataframe tbody tr th {\n",
              "        vertical-align: top;\n",
              "    }\n",
              "\n",
              "    .dataframe thead th {\n",
              "        text-align: right;\n",
              "    }\n",
              "</style>\n",
              "<table border=\"1\" class=\"dataframe\">\n",
              "  <thead>\n",
              "    <tr style=\"text-align: right;\">\n",
              "      <th></th>\n",
              "      <th>datetime</th>\n",
              "      <th>season</th>\n",
              "      <th>holiday</th>\n",
              "      <th>workingday</th>\n",
              "      <th>weather</th>\n",
              "      <th>temp</th>\n",
              "      <th>atemp</th>\n",
              "      <th>humidity</th>\n",
              "      <th>windspeed</th>\n",
              "      <th>casual</th>\n",
              "      <th>registered</th>\n",
              "      <th>count</th>\n",
              "    </tr>\n",
              "  </thead>\n",
              "  <tbody>\n",
              "    <tr>\n",
              "      <th>0</th>\n",
              "      <td>2011-01-01 00:00:00</td>\n",
              "      <td>1</td>\n",
              "      <td>0</td>\n",
              "      <td>0</td>\n",
              "      <td>1</td>\n",
              "      <td>9.84</td>\n",
              "      <td>14.395</td>\n",
              "      <td>81</td>\n",
              "      <td>0.0</td>\n",
              "      <td>3</td>\n",
              "      <td>13</td>\n",
              "      <td>16</td>\n",
              "    </tr>\n",
              "    <tr>\n",
              "      <th>1</th>\n",
              "      <td>2011-01-01 01:00:00</td>\n",
              "      <td>1</td>\n",
              "      <td>0</td>\n",
              "      <td>0</td>\n",
              "      <td>1</td>\n",
              "      <td>9.02</td>\n",
              "      <td>13.635</td>\n",
              "      <td>80</td>\n",
              "      <td>0.0</td>\n",
              "      <td>8</td>\n",
              "      <td>32</td>\n",
              "      <td>40</td>\n",
              "    </tr>\n",
              "    <tr>\n",
              "      <th>2</th>\n",
              "      <td>2011-01-01 02:00:00</td>\n",
              "      <td>1</td>\n",
              "      <td>0</td>\n",
              "      <td>0</td>\n",
              "      <td>1</td>\n",
              "      <td>9.02</td>\n",
              "      <td>13.635</td>\n",
              "      <td>80</td>\n",
              "      <td>0.0</td>\n",
              "      <td>5</td>\n",
              "      <td>27</td>\n",
              "      <td>32</td>\n",
              "    </tr>\n",
              "    <tr>\n",
              "      <th>3</th>\n",
              "      <td>2011-01-01 03:00:00</td>\n",
              "      <td>1</td>\n",
              "      <td>0</td>\n",
              "      <td>0</td>\n",
              "      <td>1</td>\n",
              "      <td>9.84</td>\n",
              "      <td>14.395</td>\n",
              "      <td>75</td>\n",
              "      <td>0.0</td>\n",
              "      <td>3</td>\n",
              "      <td>10</td>\n",
              "      <td>13</td>\n",
              "    </tr>\n",
              "    <tr>\n",
              "      <th>4</th>\n",
              "      <td>2011-01-01 04:00:00</td>\n",
              "      <td>1</td>\n",
              "      <td>0</td>\n",
              "      <td>0</td>\n",
              "      <td>1</td>\n",
              "      <td>9.84</td>\n",
              "      <td>14.395</td>\n",
              "      <td>75</td>\n",
              "      <td>0.0</td>\n",
              "      <td>0</td>\n",
              "      <td>1</td>\n",
              "      <td>1</td>\n",
              "    </tr>\n",
              "  </tbody>\n",
              "</table>\n",
              "</div>\n",
              "      <button class=\"colab-df-convert\" onclick=\"convertToInteractive('df-40fc2c83-0b4b-4edd-a49d-a0f7095abbcc')\"\n",
              "              title=\"Convert this dataframe to an interactive table.\"\n",
              "              style=\"display:none;\">\n",
              "        \n",
              "  <svg xmlns=\"http://www.w3.org/2000/svg\" height=\"24px\"viewBox=\"0 0 24 24\"\n",
              "       width=\"24px\">\n",
              "    <path d=\"M0 0h24v24H0V0z\" fill=\"none\"/>\n",
              "    <path d=\"M18.56 5.44l.94 2.06.94-2.06 2.06-.94-2.06-.94-.94-2.06-.94 2.06-2.06.94zm-11 1L8.5 8.5l.94-2.06 2.06-.94-2.06-.94L8.5 2.5l-.94 2.06-2.06.94zm10 10l.94 2.06.94-2.06 2.06-.94-2.06-.94-.94-2.06-.94 2.06-2.06.94z\"/><path d=\"M17.41 7.96l-1.37-1.37c-.4-.4-.92-.59-1.43-.59-.52 0-1.04.2-1.43.59L10.3 9.45l-7.72 7.72c-.78.78-.78 2.05 0 2.83L4 21.41c.39.39.9.59 1.41.59.51 0 1.02-.2 1.41-.59l7.78-7.78 2.81-2.81c.8-.78.8-2.07 0-2.86zM5.41 20L4 18.59l7.72-7.72 1.47 1.35L5.41 20z\"/>\n",
              "  </svg>\n",
              "      </button>\n",
              "      \n",
              "  <style>\n",
              "    .colab-df-container {\n",
              "      display:flex;\n",
              "      flex-wrap:wrap;\n",
              "      gap: 12px;\n",
              "    }\n",
              "\n",
              "    .colab-df-convert {\n",
              "      background-color: #E8F0FE;\n",
              "      border: none;\n",
              "      border-radius: 50%;\n",
              "      cursor: pointer;\n",
              "      display: none;\n",
              "      fill: #1967D2;\n",
              "      height: 32px;\n",
              "      padding: 0 0 0 0;\n",
              "      width: 32px;\n",
              "    }\n",
              "\n",
              "    .colab-df-convert:hover {\n",
              "      background-color: #E2EBFA;\n",
              "      box-shadow: 0px 1px 2px rgba(60, 64, 67, 0.3), 0px 1px 3px 1px rgba(60, 64, 67, 0.15);\n",
              "      fill: #174EA6;\n",
              "    }\n",
              "\n",
              "    [theme=dark] .colab-df-convert {\n",
              "      background-color: #3B4455;\n",
              "      fill: #D2E3FC;\n",
              "    }\n",
              "\n",
              "    [theme=dark] .colab-df-convert:hover {\n",
              "      background-color: #434B5C;\n",
              "      box-shadow: 0px 1px 3px 1px rgba(0, 0, 0, 0.15);\n",
              "      filter: drop-shadow(0px 1px 2px rgba(0, 0, 0, 0.3));\n",
              "      fill: #FFFFFF;\n",
              "    }\n",
              "  </style>\n",
              "\n",
              "      <script>\n",
              "        const buttonEl =\n",
              "          document.querySelector('#df-40fc2c83-0b4b-4edd-a49d-a0f7095abbcc button.colab-df-convert');\n",
              "        buttonEl.style.display =\n",
              "          google.colab.kernel.accessAllowed ? 'block' : 'none';\n",
              "\n",
              "        async function convertToInteractive(key) {\n",
              "          const element = document.querySelector('#df-40fc2c83-0b4b-4edd-a49d-a0f7095abbcc');\n",
              "          const dataTable =\n",
              "            await google.colab.kernel.invokeFunction('convertToInteractive',\n",
              "                                                     [key], {});\n",
              "          if (!dataTable) return;\n",
              "\n",
              "          const docLinkHtml = 'Like what you see? Visit the ' +\n",
              "            '<a target=\"_blank\" href=https://colab.research.google.com/notebooks/data_table.ipynb>data table notebook</a>'\n",
              "            + ' to learn more about interactive tables.';\n",
              "          element.innerHTML = '';\n",
              "          dataTable['output_type'] = 'display_data';\n",
              "          await google.colab.output.renderOutput(dataTable, element);\n",
              "          const docLink = document.createElement('div');\n",
              "          docLink.innerHTML = docLinkHtml;\n",
              "          element.appendChild(docLink);\n",
              "        }\n",
              "      </script>\n",
              "    </div>\n",
              "  </div>\n",
              "  "
            ]
          },
          "metadata": {},
          "execution_count": 4
        }
      ]
    },
    {
      "cell_type": "code",
      "source": [
        "# getting the shape of the data (mean no of rows and column)\n",
        "print(f\"Number of rows: {data.shape[0]} \\nNumber of columns: {data.shape[1]}\")"
      ],
      "metadata": {
        "colab": {
          "base_uri": "https://localhost:8080/"
        },
        "id": "uCQ225XP8YJl",
        "outputId": "6cacc170-f763-4338-c8ec-41712db05a25"
      },
      "execution_count": null,
      "outputs": [
        {
          "output_type": "stream",
          "name": "stdout",
          "text": [
            "Number of rows: 10886 \n",
            "Number of columns: 12\n"
          ]
        }
      ]
    },
    {
      "cell_type": "code",
      "source": [
        "data.info()"
      ],
      "metadata": {
        "colab": {
          "base_uri": "https://localhost:8080/"
        },
        "id": "Z7BHo6zq5oGp",
        "outputId": "94a8529d-efc4-4e61-a50f-48a4bc879b20"
      },
      "execution_count": null,
      "outputs": [
        {
          "output_type": "stream",
          "name": "stdout",
          "text": [
            "<class 'pandas.core.frame.DataFrame'>\n",
            "RangeIndex: 10886 entries, 0 to 10885\n",
            "Data columns (total 12 columns):\n",
            " #   Column      Non-Null Count  Dtype  \n",
            "---  ------      --------------  -----  \n",
            " 0   datetime    10886 non-null  object \n",
            " 1   season      10886 non-null  int64  \n",
            " 2   holiday     10886 non-null  int64  \n",
            " 3   workingday  10886 non-null  int64  \n",
            " 4   weather     10886 non-null  int64  \n",
            " 5   temp        10886 non-null  float64\n",
            " 6   atemp       10886 non-null  float64\n",
            " 7   humidity    10886 non-null  int64  \n",
            " 8   windspeed   10886 non-null  float64\n",
            " 9   casual      10886 non-null  int64  \n",
            " 10  registered  10886 non-null  int64  \n",
            " 11  count       10886 non-null  int64  \n",
            "dtypes: float64(3), int64(8), object(1)\n",
            "memory usage: 1020.7+ KB\n"
          ]
        }
      ]
    },
    {
      "cell_type": "code",
      "source": [
        "#Convert to date time dtype \n",
        "data['datetime'] = pd.to_datetime(data['datetime'])"
      ],
      "metadata": {
        "id": "t6Xqf4D379M0"
      },
      "execution_count": null,
      "outputs": []
    },
    {
      "cell_type": "code",
      "source": [
        "data.describe(include='all')"
      ],
      "metadata": {
        "colab": {
          "base_uri": "https://localhost:8080/",
          "height": 608
        },
        "id": "LrGGRz6K5flO",
        "outputId": "6acf10a7-148e-451f-c1cc-251e8b170bb6"
      },
      "execution_count": null,
      "outputs": [
        {
          "output_type": "stream",
          "name": "stderr",
          "text": [
            "/usr/local/lib/python3.7/dist-packages/ipykernel_launcher.py:1: FutureWarning: Treating datetime data as categorical rather than numeric in `.describe` is deprecated and will be removed in a future version of pandas. Specify `datetime_is_numeric=True` to silence this warning and adopt the future behavior now.\n",
            "  \"\"\"Entry point for launching an IPython kernel.\n"
          ]
        },
        {
          "output_type": "execute_result",
          "data": {
            "text/plain": [
              "                   datetime        season       holiday    workingday  \\\n",
              "count                 10886  10886.000000  10886.000000  10886.000000   \n",
              "unique                10886           NaN           NaN           NaN   \n",
              "top     2011-01-01 00:00:00           NaN           NaN           NaN   \n",
              "freq                      1           NaN           NaN           NaN   \n",
              "first   2011-01-01 00:00:00           NaN           NaN           NaN   \n",
              "last    2012-12-19 23:00:00           NaN           NaN           NaN   \n",
              "mean                    NaN      2.506614      0.028569      0.680875   \n",
              "std                     NaN      1.116174      0.166599      0.466159   \n",
              "min                     NaN      1.000000      0.000000      0.000000   \n",
              "25%                     NaN      2.000000      0.000000      0.000000   \n",
              "50%                     NaN      3.000000      0.000000      1.000000   \n",
              "75%                     NaN      4.000000      0.000000      1.000000   \n",
              "max                     NaN      4.000000      1.000000      1.000000   \n",
              "\n",
              "             weather         temp         atemp      humidity     windspeed  \\\n",
              "count   10886.000000  10886.00000  10886.000000  10886.000000  10886.000000   \n",
              "unique           NaN          NaN           NaN           NaN           NaN   \n",
              "top              NaN          NaN           NaN           NaN           NaN   \n",
              "freq             NaN          NaN           NaN           NaN           NaN   \n",
              "first            NaN          NaN           NaN           NaN           NaN   \n",
              "last             NaN          NaN           NaN           NaN           NaN   \n",
              "mean        1.418427     20.23086     23.655084     61.886460     12.799395   \n",
              "std         0.633839      7.79159      8.474601     19.245033      8.164537   \n",
              "min         1.000000      0.82000      0.760000      0.000000      0.000000   \n",
              "25%         1.000000     13.94000     16.665000     47.000000      7.001500   \n",
              "50%         1.000000     20.50000     24.240000     62.000000     12.998000   \n",
              "75%         2.000000     26.24000     31.060000     77.000000     16.997900   \n",
              "max         4.000000     41.00000     45.455000    100.000000     56.996900   \n",
              "\n",
              "              casual    registered         count  \n",
              "count   10886.000000  10886.000000  10886.000000  \n",
              "unique           NaN           NaN           NaN  \n",
              "top              NaN           NaN           NaN  \n",
              "freq             NaN           NaN           NaN  \n",
              "first            NaN           NaN           NaN  \n",
              "last             NaN           NaN           NaN  \n",
              "mean       36.021955    155.552177    191.574132  \n",
              "std        49.960477    151.039033    181.144454  \n",
              "min         0.000000      0.000000      1.000000  \n",
              "25%         4.000000     36.000000     42.000000  \n",
              "50%        17.000000    118.000000    145.000000  \n",
              "75%        49.000000    222.000000    284.000000  \n",
              "max       367.000000    886.000000    977.000000  "
            ],
            "text/html": [
              "\n",
              "  <div id=\"df-01f86414-4f92-4846-98cd-dbda1dc1fd20\">\n",
              "    <div class=\"colab-df-container\">\n",
              "      <div>\n",
              "<style scoped>\n",
              "    .dataframe tbody tr th:only-of-type {\n",
              "        vertical-align: middle;\n",
              "    }\n",
              "\n",
              "    .dataframe tbody tr th {\n",
              "        vertical-align: top;\n",
              "    }\n",
              "\n",
              "    .dataframe thead th {\n",
              "        text-align: right;\n",
              "    }\n",
              "</style>\n",
              "<table border=\"1\" class=\"dataframe\">\n",
              "  <thead>\n",
              "    <tr style=\"text-align: right;\">\n",
              "      <th></th>\n",
              "      <th>datetime</th>\n",
              "      <th>season</th>\n",
              "      <th>holiday</th>\n",
              "      <th>workingday</th>\n",
              "      <th>weather</th>\n",
              "      <th>temp</th>\n",
              "      <th>atemp</th>\n",
              "      <th>humidity</th>\n",
              "      <th>windspeed</th>\n",
              "      <th>casual</th>\n",
              "      <th>registered</th>\n",
              "      <th>count</th>\n",
              "    </tr>\n",
              "  </thead>\n",
              "  <tbody>\n",
              "    <tr>\n",
              "      <th>count</th>\n",
              "      <td>10886</td>\n",
              "      <td>10886.000000</td>\n",
              "      <td>10886.000000</td>\n",
              "      <td>10886.000000</td>\n",
              "      <td>10886.000000</td>\n",
              "      <td>10886.00000</td>\n",
              "      <td>10886.000000</td>\n",
              "      <td>10886.000000</td>\n",
              "      <td>10886.000000</td>\n",
              "      <td>10886.000000</td>\n",
              "      <td>10886.000000</td>\n",
              "      <td>10886.000000</td>\n",
              "    </tr>\n",
              "    <tr>\n",
              "      <th>unique</th>\n",
              "      <td>10886</td>\n",
              "      <td>NaN</td>\n",
              "      <td>NaN</td>\n",
              "      <td>NaN</td>\n",
              "      <td>NaN</td>\n",
              "      <td>NaN</td>\n",
              "      <td>NaN</td>\n",
              "      <td>NaN</td>\n",
              "      <td>NaN</td>\n",
              "      <td>NaN</td>\n",
              "      <td>NaN</td>\n",
              "      <td>NaN</td>\n",
              "    </tr>\n",
              "    <tr>\n",
              "      <th>top</th>\n",
              "      <td>2011-01-01 00:00:00</td>\n",
              "      <td>NaN</td>\n",
              "      <td>NaN</td>\n",
              "      <td>NaN</td>\n",
              "      <td>NaN</td>\n",
              "      <td>NaN</td>\n",
              "      <td>NaN</td>\n",
              "      <td>NaN</td>\n",
              "      <td>NaN</td>\n",
              "      <td>NaN</td>\n",
              "      <td>NaN</td>\n",
              "      <td>NaN</td>\n",
              "    </tr>\n",
              "    <tr>\n",
              "      <th>freq</th>\n",
              "      <td>1</td>\n",
              "      <td>NaN</td>\n",
              "      <td>NaN</td>\n",
              "      <td>NaN</td>\n",
              "      <td>NaN</td>\n",
              "      <td>NaN</td>\n",
              "      <td>NaN</td>\n",
              "      <td>NaN</td>\n",
              "      <td>NaN</td>\n",
              "      <td>NaN</td>\n",
              "      <td>NaN</td>\n",
              "      <td>NaN</td>\n",
              "    </tr>\n",
              "    <tr>\n",
              "      <th>first</th>\n",
              "      <td>2011-01-01 00:00:00</td>\n",
              "      <td>NaN</td>\n",
              "      <td>NaN</td>\n",
              "      <td>NaN</td>\n",
              "      <td>NaN</td>\n",
              "      <td>NaN</td>\n",
              "      <td>NaN</td>\n",
              "      <td>NaN</td>\n",
              "      <td>NaN</td>\n",
              "      <td>NaN</td>\n",
              "      <td>NaN</td>\n",
              "      <td>NaN</td>\n",
              "    </tr>\n",
              "    <tr>\n",
              "      <th>last</th>\n",
              "      <td>2012-12-19 23:00:00</td>\n",
              "      <td>NaN</td>\n",
              "      <td>NaN</td>\n",
              "      <td>NaN</td>\n",
              "      <td>NaN</td>\n",
              "      <td>NaN</td>\n",
              "      <td>NaN</td>\n",
              "      <td>NaN</td>\n",
              "      <td>NaN</td>\n",
              "      <td>NaN</td>\n",
              "      <td>NaN</td>\n",
              "      <td>NaN</td>\n",
              "    </tr>\n",
              "    <tr>\n",
              "      <th>mean</th>\n",
              "      <td>NaN</td>\n",
              "      <td>2.506614</td>\n",
              "      <td>0.028569</td>\n",
              "      <td>0.680875</td>\n",
              "      <td>1.418427</td>\n",
              "      <td>20.23086</td>\n",
              "      <td>23.655084</td>\n",
              "      <td>61.886460</td>\n",
              "      <td>12.799395</td>\n",
              "      <td>36.021955</td>\n",
              "      <td>155.552177</td>\n",
              "      <td>191.574132</td>\n",
              "    </tr>\n",
              "    <tr>\n",
              "      <th>std</th>\n",
              "      <td>NaN</td>\n",
              "      <td>1.116174</td>\n",
              "      <td>0.166599</td>\n",
              "      <td>0.466159</td>\n",
              "      <td>0.633839</td>\n",
              "      <td>7.79159</td>\n",
              "      <td>8.474601</td>\n",
              "      <td>19.245033</td>\n",
              "      <td>8.164537</td>\n",
              "      <td>49.960477</td>\n",
              "      <td>151.039033</td>\n",
              "      <td>181.144454</td>\n",
              "    </tr>\n",
              "    <tr>\n",
              "      <th>min</th>\n",
              "      <td>NaN</td>\n",
              "      <td>1.000000</td>\n",
              "      <td>0.000000</td>\n",
              "      <td>0.000000</td>\n",
              "      <td>1.000000</td>\n",
              "      <td>0.82000</td>\n",
              "      <td>0.760000</td>\n",
              "      <td>0.000000</td>\n",
              "      <td>0.000000</td>\n",
              "      <td>0.000000</td>\n",
              "      <td>0.000000</td>\n",
              "      <td>1.000000</td>\n",
              "    </tr>\n",
              "    <tr>\n",
              "      <th>25%</th>\n",
              "      <td>NaN</td>\n",
              "      <td>2.000000</td>\n",
              "      <td>0.000000</td>\n",
              "      <td>0.000000</td>\n",
              "      <td>1.000000</td>\n",
              "      <td>13.94000</td>\n",
              "      <td>16.665000</td>\n",
              "      <td>47.000000</td>\n",
              "      <td>7.001500</td>\n",
              "      <td>4.000000</td>\n",
              "      <td>36.000000</td>\n",
              "      <td>42.000000</td>\n",
              "    </tr>\n",
              "    <tr>\n",
              "      <th>50%</th>\n",
              "      <td>NaN</td>\n",
              "      <td>3.000000</td>\n",
              "      <td>0.000000</td>\n",
              "      <td>1.000000</td>\n",
              "      <td>1.000000</td>\n",
              "      <td>20.50000</td>\n",
              "      <td>24.240000</td>\n",
              "      <td>62.000000</td>\n",
              "      <td>12.998000</td>\n",
              "      <td>17.000000</td>\n",
              "      <td>118.000000</td>\n",
              "      <td>145.000000</td>\n",
              "    </tr>\n",
              "    <tr>\n",
              "      <th>75%</th>\n",
              "      <td>NaN</td>\n",
              "      <td>4.000000</td>\n",
              "      <td>0.000000</td>\n",
              "      <td>1.000000</td>\n",
              "      <td>2.000000</td>\n",
              "      <td>26.24000</td>\n",
              "      <td>31.060000</td>\n",
              "      <td>77.000000</td>\n",
              "      <td>16.997900</td>\n",
              "      <td>49.000000</td>\n",
              "      <td>222.000000</td>\n",
              "      <td>284.000000</td>\n",
              "    </tr>\n",
              "    <tr>\n",
              "      <th>max</th>\n",
              "      <td>NaN</td>\n",
              "      <td>4.000000</td>\n",
              "      <td>1.000000</td>\n",
              "      <td>1.000000</td>\n",
              "      <td>4.000000</td>\n",
              "      <td>41.00000</td>\n",
              "      <td>45.455000</td>\n",
              "      <td>100.000000</td>\n",
              "      <td>56.996900</td>\n",
              "      <td>367.000000</td>\n",
              "      <td>886.000000</td>\n",
              "      <td>977.000000</td>\n",
              "    </tr>\n",
              "  </tbody>\n",
              "</table>\n",
              "</div>\n",
              "      <button class=\"colab-df-convert\" onclick=\"convertToInteractive('df-01f86414-4f92-4846-98cd-dbda1dc1fd20')\"\n",
              "              title=\"Convert this dataframe to an interactive table.\"\n",
              "              style=\"display:none;\">\n",
              "        \n",
              "  <svg xmlns=\"http://www.w3.org/2000/svg\" height=\"24px\"viewBox=\"0 0 24 24\"\n",
              "       width=\"24px\">\n",
              "    <path d=\"M0 0h24v24H0V0z\" fill=\"none\"/>\n",
              "    <path d=\"M18.56 5.44l.94 2.06.94-2.06 2.06-.94-2.06-.94-.94-2.06-.94 2.06-2.06.94zm-11 1L8.5 8.5l.94-2.06 2.06-.94-2.06-.94L8.5 2.5l-.94 2.06-2.06.94zm10 10l.94 2.06.94-2.06 2.06-.94-2.06-.94-.94-2.06-.94 2.06-2.06.94z\"/><path d=\"M17.41 7.96l-1.37-1.37c-.4-.4-.92-.59-1.43-.59-.52 0-1.04.2-1.43.59L10.3 9.45l-7.72 7.72c-.78.78-.78 2.05 0 2.83L4 21.41c.39.39.9.59 1.41.59.51 0 1.02-.2 1.41-.59l7.78-7.78 2.81-2.81c.8-.78.8-2.07 0-2.86zM5.41 20L4 18.59l7.72-7.72 1.47 1.35L5.41 20z\"/>\n",
              "  </svg>\n",
              "      </button>\n",
              "      \n",
              "  <style>\n",
              "    .colab-df-container {\n",
              "      display:flex;\n",
              "      flex-wrap:wrap;\n",
              "      gap: 12px;\n",
              "    }\n",
              "\n",
              "    .colab-df-convert {\n",
              "      background-color: #E8F0FE;\n",
              "      border: none;\n",
              "      border-radius: 50%;\n",
              "      cursor: pointer;\n",
              "      display: none;\n",
              "      fill: #1967D2;\n",
              "      height: 32px;\n",
              "      padding: 0 0 0 0;\n",
              "      width: 32px;\n",
              "    }\n",
              "\n",
              "    .colab-df-convert:hover {\n",
              "      background-color: #E2EBFA;\n",
              "      box-shadow: 0px 1px 2px rgba(60, 64, 67, 0.3), 0px 1px 3px 1px rgba(60, 64, 67, 0.15);\n",
              "      fill: #174EA6;\n",
              "    }\n",
              "\n",
              "    [theme=dark] .colab-df-convert {\n",
              "      background-color: #3B4455;\n",
              "      fill: #D2E3FC;\n",
              "    }\n",
              "\n",
              "    [theme=dark] .colab-df-convert:hover {\n",
              "      background-color: #434B5C;\n",
              "      box-shadow: 0px 1px 3px 1px rgba(0, 0, 0, 0.15);\n",
              "      filter: drop-shadow(0px 1px 2px rgba(0, 0, 0, 0.3));\n",
              "      fill: #FFFFFF;\n",
              "    }\n",
              "  </style>\n",
              "\n",
              "      <script>\n",
              "        const buttonEl =\n",
              "          document.querySelector('#df-01f86414-4f92-4846-98cd-dbda1dc1fd20 button.colab-df-convert');\n",
              "        buttonEl.style.display =\n",
              "          google.colab.kernel.accessAllowed ? 'block' : 'none';\n",
              "\n",
              "        async function convertToInteractive(key) {\n",
              "          const element = document.querySelector('#df-01f86414-4f92-4846-98cd-dbda1dc1fd20');\n",
              "          const dataTable =\n",
              "            await google.colab.kernel.invokeFunction('convertToInteractive',\n",
              "                                                     [key], {});\n",
              "          if (!dataTable) return;\n",
              "\n",
              "          const docLinkHtml = 'Like what you see? Visit the ' +\n",
              "            '<a target=\"_blank\" href=https://colab.research.google.com/notebooks/data_table.ipynb>data table notebook</a>'\n",
              "            + ' to learn more about interactive tables.';\n",
              "          element.innerHTML = '';\n",
              "          dataTable['output_type'] = 'display_data';\n",
              "          await google.colab.output.renderOutput(dataTable, element);\n",
              "          const docLink = document.createElement('div');\n",
              "          docLink.innerHTML = docLinkHtml;\n",
              "          element.appendChild(docLink);\n",
              "        }\n",
              "      </script>\n",
              "    </div>\n",
              "  </div>\n",
              "  "
            ]
          },
          "metadata": {},
          "execution_count": 8
        }
      ]
    },
    {
      "cell_type": "code",
      "source": [
        "data.nunique()"
      ],
      "metadata": {
        "colab": {
          "base_uri": "https://localhost:8080/"
        },
        "id": "lP4pS4D38f8H",
        "outputId": "36a5be75-6523-4ab7-a3c8-53885733148e"
      },
      "execution_count": null,
      "outputs": [
        {
          "output_type": "execute_result",
          "data": {
            "text/plain": [
              "datetime      10886\n",
              "season            4\n",
              "holiday           2\n",
              "workingday        2\n",
              "weather           4\n",
              "temp             49\n",
              "atemp            60\n",
              "humidity         89\n",
              "windspeed        28\n",
              "casual          309\n",
              "registered      731\n",
              "count           822\n",
              "dtype: int64"
            ]
          },
          "metadata": {},
          "execution_count": 9
        }
      ]
    },
    {
      "cell_type": "code",
      "source": [
        "data['season'].value_counts()"
      ],
      "metadata": {
        "colab": {
          "base_uri": "https://localhost:8080/"
        },
        "id": "5k-t_zlH_Yld",
        "outputId": "09b07074-0652-4fd4-93b8-382989bc3ff8"
      },
      "execution_count": null,
      "outputs": [
        {
          "output_type": "execute_result",
          "data": {
            "text/plain": [
              "4    2734\n",
              "2    2733\n",
              "3    2733\n",
              "1    2686\n",
              "Name: season, dtype: int64"
            ]
          },
          "metadata": {},
          "execution_count": 10
        }
      ]
    },
    {
      "cell_type": "code",
      "source": [
        "#No. of Total users in different season \n",
        "s1t = data[data['season']== 1]['count'].sum()\n",
        "s2t = data[data['season']== 2]['count'].sum()\n",
        "s3t = data[data['season']== 3]['count'].sum()\n",
        "s4t = data[data['season']== 4]['count'].sum()\n",
        "print ('Total users in Spring :',s1t)\n",
        "print ('Total users in Summer :',s2t)\n",
        "print ('Total users in Fall :',s3t)\n",
        "print ('Total users in Winter :',s4t)"
      ],
      "metadata": {
        "colab": {
          "base_uri": "https://localhost:8080/"
        },
        "id": "WV_NJqyROtvD",
        "outputId": "8be75a43-47d9-4dde-aa73-adf4d3c3e7d8"
      },
      "execution_count": null,
      "outputs": [
        {
          "output_type": "stream",
          "name": "stdout",
          "text": [
            "Total users in Spring : 312498\n",
            "Total users in Summer : 588282\n",
            "Total users in Fall : 640662\n",
            "Total users in Winter : 544034\n"
          ]
        }
      ]
    },
    {
      "cell_type": "code",
      "source": [
        "#No of casual and registered users in different seasons\n",
        "s1c = data[data['season']== 1]['casual'].sum()\n",
        "s1r = data[data['season']== 1]['registered'].sum()\n",
        "s2c = data[data['season']== 2]['casual'].sum()\n",
        "s2r = data[data['season']== 2]['registered'].sum()\n",
        "s3c = data[data['season']== 3]['casual'].sum()\n",
        "s3r = data[data['season']== 3]['registered'].sum()\n",
        "s4c = data[data['season']== 4]['casual'].sum()\n",
        "s4r = data[data['season']== 4]['registered'].sum()\n",
        "print ('No. of casual users in spring are :',s1c,'No. of Registered users in spring are :',s1r)\n",
        "print ('No. of casual users in summer are :',s2c,'No. of Registered users in summer are :',s2r)\n",
        "print ('No. of casual users in fall are :',s3c,'No. of Registered users in fall are :',s3r)\n",
        "print ('No. of casual users in winter are :',s4c,'No. of Registered users in winter are :',s4r)"
      ],
      "metadata": {
        "colab": {
          "base_uri": "https://localhost:8080/"
        },
        "id": "JLOINmhDK268",
        "outputId": "24021aa8-e223-4991-9aef-0fc6c6ba780c"
      },
      "execution_count": null,
      "outputs": [
        {
          "output_type": "stream",
          "name": "stdout",
          "text": [
            "No. of casual users in spring are : 41605 No. of Registered users in spring are : 270893\n",
            "No. of casual users in summer are : 129672 No. of Registered users in summer are : 458610\n",
            "No. of casual users in fall are : 142718 No. of Registered users in fall are : 497944\n",
            "No. of casual users in winter are : 78140 No. of Registered users in winter are : 465894\n"
          ]
        }
      ]
    },
    {
      "cell_type": "code",
      "source": [
        "data['holiday'].value_counts()"
      ],
      "metadata": {
        "colab": {
          "base_uri": "https://localhost:8080/"
        },
        "id": "80WnrlxkBH0j",
        "outputId": "0371a985-93a2-4775-ee98-451303b637f4"
      },
      "execution_count": null,
      "outputs": [
        {
          "output_type": "execute_result",
          "data": {
            "text/plain": [
              "0    10575\n",
              "1      311\n",
              "Name: holiday, dtype: int64"
            ]
          },
          "metadata": {},
          "execution_count": 11
        }
      ]
    },
    {
      "cell_type": "code",
      "source": [
        "#No. of Total users in Holidays\n",
        "h1t = data[data['holiday']== 1]['count'].sum()\n",
        "print ('Total users in Holiday :',h1t)\n"
      ],
      "metadata": {
        "colab": {
          "base_uri": "https://localhost:8080/"
        },
        "id": "pp6hgvVTtKEV",
        "outputId": "5fd5395d-9905-48cd-d1ec-fc64e7ec567a"
      },
      "execution_count": null,
      "outputs": [
        {
          "output_type": "stream",
          "name": "stdout",
          "text": [
            "Total users in Holiday : 57808\n"
          ]
        }
      ]
    },
    {
      "cell_type": "code",
      "source": [
        "#No of casual and registered users in Holidays\n",
        "h1c = data[data['holiday']== 1]['casual'].sum()\n",
        "h1r = data[data['holiday']== 1]['registered'].sum()\n",
        "print ('No. of casual users in holidays are :',h1c,'No. of Registered users in holidays are :',h1r)"
      ],
      "metadata": {
        "colab": {
          "base_uri": "https://localhost:8080/"
        },
        "id": "M4Yj4iL_tKQU",
        "outputId": "274fd15e-4475-4486-ec74-39d9ea2ade97"
      },
      "execution_count": null,
      "outputs": [
        {
          "output_type": "stream",
          "name": "stdout",
          "text": [
            "No. of casual users in holidays are : 15171 No. of Registered users in holidays are : 42637\n"
          ]
        }
      ]
    },
    {
      "cell_type": "code",
      "source": [
        "data['workingday'].value_counts()"
      ],
      "metadata": {
        "colab": {
          "base_uri": "https://localhost:8080/"
        },
        "id": "kS29PIaBBL7S",
        "outputId": "97c9432d-78ef-4d4e-a5f6-d0dd980ad7a7"
      },
      "execution_count": null,
      "outputs": [
        {
          "output_type": "execute_result",
          "data": {
            "text/plain": [
              "1    7412\n",
              "0    3474\n",
              "Name: workingday, dtype: int64"
            ]
          },
          "metadata": {},
          "execution_count": 12
        }
      ]
    },
    {
      "cell_type": "code",
      "source": [
        "#No. of Total users in Working Days\n",
        "w1t = data[data['workingday']== 1]['count'].sum()\n",
        "print ('Total users in Working Day :',w1t)\n"
      ],
      "metadata": {
        "colab": {
          "base_uri": "https://localhost:8080/"
        },
        "id": "1HS8-qLHuqgQ",
        "outputId": "58658840-b7f9-46a2-c02e-f7d301f6f87d"
      },
      "execution_count": null,
      "outputs": [
        {
          "output_type": "stream",
          "name": "stdout",
          "text": [
            "Total users in Working Day : 1430604\n"
          ]
        }
      ]
    },
    {
      "cell_type": "code",
      "source": [
        "#No of casual and registered users in Holidays\n",
        "w1c = data[data['workingday']== 1]['casual'].sum()\n",
        "w1r = data[data['workingday']== 1]['registered'].sum()\n",
        "print ('No. of casual users in working days are :',w1c,'No. of Registered users in working days are :',w1r)"
      ],
      "metadata": {
        "colab": {
          "base_uri": "https://localhost:8080/"
        },
        "id": "1YD-fgqJurC1",
        "outputId": "f2839cb1-f3b5-4ece-86b5-8ccb98d24858"
      },
      "execution_count": null,
      "outputs": [
        {
          "output_type": "stream",
          "name": "stdout",
          "text": [
            "No. of casual users in working days are : 186098 No. of Registered users in working days are : 1244506\n"
          ]
        }
      ]
    },
    {
      "cell_type": "code",
      "source": [
        "data['weather'].value_counts()"
      ],
      "metadata": {
        "colab": {
          "base_uri": "https://localhost:8080/"
        },
        "id": "uYY4aiNYBRe8",
        "outputId": "ec981c61-c03a-473b-bc4f-aa75973ed76a"
      },
      "execution_count": null,
      "outputs": [
        {
          "output_type": "execute_result",
          "data": {
            "text/plain": [
              "1    7192\n",
              "2    2834\n",
              "3     859\n",
              "4       1\n",
              "Name: weather, dtype: int64"
            ]
          },
          "metadata": {},
          "execution_count": 13
        }
      ]
    },
    {
      "cell_type": "code",
      "source": [
        "#No. of Total users in different weathers\n",
        "wr1t = data[data['weather']== 1]['count'].sum()\n",
        "wr2t = data[data['weather']== 2]['count'].sum()\n",
        "wr3t = data[data['weather']== 3]['count'].sum()\n",
        "wr4t = data[data['weather']== 4]['count'].sum()\n",
        "print ('Total users in Clear, Few clouds, partly cloudy, partly cloudy Weather :',wr1t)\n",
        "print ('Total users in Mist + Cloudy, Mist + Broken clouds, Mist + Few clouds, Mist Weather :',wr2t)\n",
        "print ('Total users in Light Snow, Light Rain + Thunderstorm + Scattered clouds, Light Rain + Scattered clouds weather :',wr3t)\n",
        "print ('Total users in Heavy Rain + Ice Pallets + Thunderstorm + Mist, Snow + Fog weather :',wr4t)"
      ],
      "metadata": {
        "colab": {
          "base_uri": "https://localhost:8080/"
        },
        "id": "yHpP9Xqowa6z",
        "outputId": "e8ca7a17-6c72-4dd1-f6bd-685dc7d39429"
      },
      "execution_count": null,
      "outputs": [
        {
          "output_type": "stream",
          "name": "stdout",
          "text": [
            "Total users in Clear, Few clouds, partly cloudy, partly cloudy Weather : 1476063\n",
            "Total users in Mist + Cloudy, Mist + Broken clouds, Mist + Few clouds, Mist Weather : 507160\n",
            "Total users in Light Snow, Light Rain + Thunderstorm + Scattered clouds, Light Rain + Scattered clouds weather : 102089\n",
            "Total users in Heavy Rain + Ice Pallets + Thunderstorm + Mist, Snow + Fog weather : 164\n"
          ]
        }
      ]
    },
    {
      "cell_type": "code",
      "source": [
        "#Univariate Analysis"
      ],
      "metadata": {
        "id": "N9iZyJzlBaiA"
      },
      "execution_count": null,
      "outputs": []
    },
    {
      "cell_type": "code",
      "source": [
        "fig,axis = plt.subplots(nrows = 2,ncols = 2,figsize = (10,8))\n",
        "sns.countplot(data['season'],ax=axis[0,0])\n",
        "sns.countplot(data['holiday'],ax=axis[0,1])\n",
        "sns.countplot(data['workingday'],ax=axis[1,0])\n",
        "sns.countplot(data['weather'],ax=axis[1,1])"
      ],
      "metadata": {
        "colab": {
          "base_uri": "https://localhost:8080/",
          "height": 673
        },
        "id": "vvjzkbPCBe5b",
        "outputId": "3bce41ef-3471-4263-eb78-db160adc1a87"
      },
      "execution_count": null,
      "outputs": [
        {
          "output_type": "stream",
          "name": "stderr",
          "text": [
            "/usr/local/lib/python3.7/dist-packages/seaborn/_decorators.py:43: FutureWarning: Pass the following variable as a keyword arg: x. From version 0.12, the only valid positional argument will be `data`, and passing other arguments without an explicit keyword will result in an error or misinterpretation.\n",
            "  FutureWarning\n",
            "/usr/local/lib/python3.7/dist-packages/seaborn/_decorators.py:43: FutureWarning: Pass the following variable as a keyword arg: x. From version 0.12, the only valid positional argument will be `data`, and passing other arguments without an explicit keyword will result in an error or misinterpretation.\n",
            "  FutureWarning\n",
            "/usr/local/lib/python3.7/dist-packages/seaborn/_decorators.py:43: FutureWarning: Pass the following variable as a keyword arg: x. From version 0.12, the only valid positional argument will be `data`, and passing other arguments without an explicit keyword will result in an error or misinterpretation.\n",
            "  FutureWarning\n",
            "/usr/local/lib/python3.7/dist-packages/seaborn/_decorators.py:43: FutureWarning: Pass the following variable as a keyword arg: x. From version 0.12, the only valid positional argument will be `data`, and passing other arguments without an explicit keyword will result in an error or misinterpretation.\n",
            "  FutureWarning\n"
          ]
        },
        {
          "output_type": "execute_result",
          "data": {
            "text/plain": [
              "<matplotlib.axes._subplots.AxesSubplot at 0x7f2e680c2410>"
            ]
          },
          "metadata": {},
          "execution_count": 15
        },
        {
          "output_type": "display_data",
          "data": {
            "text/plain": [
              "<Figure size 720x576 with 4 Axes>"
            ],
            "image/png": "[encoded data removed]"
          },
          "metadata": {
            "needs_background": "light"
          }
        }
      ]
    },
    {
      "cell_type": "code",
      "source": [
        "fig,axis = plt.subplots(nrows = 2,ncols = 2,figsize = (10,8))\n",
        "sns.histplot(data=data,x='temp',kde='True',ax=axis[0,0])\n",
        "sns.histplot(data=data,x='atemp',kde='True',ax=axis[0,1])\n",
        "sns.histplot(data=data,x='humidity',kde='True',ax=axis[1,0])\n",
        "sns.histplot(data=data,x='windspeed',kde='True',ax=axis[1,1])"
      ],
      "metadata": {
        "colab": {
          "base_uri": "https://localhost:8080/",
          "height": 514
        },
        "id": "qF31NYHIGWV2",
        "outputId": "bb057468-f104-4ddc-c9f8-64d794eccc38"
      },
      "execution_count": null,
      "outputs": [
        {
          "output_type": "execute_result",
          "data": {
            "text/plain": [
              "<matplotlib.axes._subplots.AxesSubplot at 0x7f2e67abf8d0>"
            ]
          },
          "metadata": {},
          "execution_count": 16
        },
        {
          "output_type": "display_data",
          "data": {
            "text/plain": [
              "<Figure size 720x576 with 4 Axes>"
            ],
            "image/png": "[encoded data removed]"
          },
          "metadata": {
            "needs_background": "light"
          }
        }
      ]
    },
    {
      "cell_type": "code",
      "source": [
        "sns.countplot(data[data['workingday']==0]['count'])"
      ],
      "metadata": {
        "colab": {
          "base_uri": "https://localhost:8080/",
          "height": 351
        },
        "id": "GCb_hvJ6RTZf",
        "outputId": "158ba7ad-8d92-42b5-d154-7efa9c30ac7e"
      },
      "execution_count": null,
      "outputs": [
        {
          "output_type": "stream",
          "name": "stderr",
          "text": [
            "/usr/local/lib/python3.7/dist-packages/seaborn/_decorators.py:43: FutureWarning: Pass the following variable as a keyword arg: x. From version 0.12, the only valid positional argument will be `data`, and passing other arguments without an explicit keyword will result in an error or misinterpretation.\n",
            "  FutureWarning\n"
          ]
        },
        {
          "output_type": "execute_result",
          "data": {
            "text/plain": [
              "<matplotlib.axes._subplots.AxesSubplot at 0x7f2e64ded610>"
            ]
          },
          "metadata": {},
          "execution_count": 17
        },
        {
          "output_type": "display_data",
          "data": {
            "text/plain": [
              "<Figure size 432x288 with 1 Axes>"
            ],
            "image/png": "[encoded data removed]"
          },
          "metadata": {
            "needs_background": "light"
          }
        }
      ]
    },
    {
      "cell_type": "code",
      "source": [],
      "metadata": {
        "id": "fN3MHUb3NpoI"
      },
      "execution_count": null,
      "outputs": []
    },
    {
      "cell_type": "code",
      "source": [
        "sns.heatmap(data.corr())"
      ],
      "metadata": {
        "colab": {
          "base_uri": "https://localhost:8080/",
          "height": 334
        },
        "id": "aqoKGd1dLBIJ",
        "outputId": "72a77ede-3f1f-44ba-b39e-d2b89a587970"
      },
      "execution_count": null,
      "outputs": [
        {
          "output_type": "execute_result",
          "data": {
            "text/plain": [
              "<matplotlib.axes._subplots.AxesSubplot at 0x7f2e649a9c90>"
            ]
          },
          "metadata": {},
          "execution_count": 18
        },
        {
          "output_type": "display_data",
          "data": {
            "text/plain": [
              "<Figure size 432x288 with 2 Axes>"
            ],
            "image/png": "[encoded data removed]"
          },
          "metadata": {
            "needs_background": "light"
          }
        }
      ]
    },
    {
      "cell_type": "code",
      "source": [
        "#Outlier Detection using boxplot\n",
        "fig,axis = plt.subplots(nrows = 2,ncols = 2,figsize = (10,8))\n",
        "sns.boxplot(data=data,y='count',x='workingday',ax=axis[0,0])\n",
        "sns.boxplot(data=data,y='count',x='season',ax=axis[0,1])\n",
        "sns.boxplot(data=data,y='count',x='holiday',ax=axis[1,0])\n",
        "sns.boxplot(data=data,y='count',x='weather',ax=axis[1,1])"
      ],
      "metadata": {
        "id": "nmzOUEpdHsW9",
        "colab": {
          "base_uri": "https://localhost:8080/",
          "height": 514
        },
        "outputId": "a86614ae-fca9-45aa-ab3b-8b73312c0611"
      },
      "execution_count": null,
      "outputs": [
        {
          "output_type": "execute_result",
          "data": {
            "text/plain": [
              "<matplotlib.axes._subplots.AxesSubplot at 0x7f2e63e976d0>"
            ]
          },
          "metadata": {},
          "execution_count": 19
        },
        {
          "output_type": "display_data",
          "data": {
            "text/plain": [
              "<Figure size 720x576 with 4 Axes>"
            ],
            "image/png": "[encoded data removed]"
          },
          "metadata": {
            "needs_background": "light"
          }
        }
      ]
    },
    {
      "cell_type": "code",
      "source": [
        "'''\n",
        "2- Sample T-Test to check if Working Day has an effect on the number of electric cycles rented\n",
        "\n",
        "Before conducting the two-sample T-Test we need to find \n",
        "---The two samples data groups are independent or not\n",
        "---if the given data groups have the same variance. If the ratio is less than 4:1 then we can consider that the given data groups have equal variance.\n",
        "---Whether the data elements in respective groups follow any normal distribution.\n",
        "\n",
        "H0 = Working Day has no effect on the number of electric cycles rented\n",
        "H1 = Working day has effect on the number of electric cycles rented\n",
        "Significance level alpha = 0.05\n",
        "\n",
        "\n",
        "'''"
      ],
      "metadata": {
        "id": "hI_--5G0N-UD",
        "colab": {
          "base_uri": "https://localhost:8080/",
          "height": 105
        },
        "outputId": "ce4729bc-b0f4-4826-fbd7-eccd4b95dbc9"
      },
      "execution_count": null,
      "outputs": [
        {
          "output_type": "execute_result",
          "data": {
            "text/plain": [
              "'\\n2- Sample T-Test to check if Working Day has an effect on the number of electric cycles rented\\n\\nBefore conducting the two-sample T-Test we need to find \\n---The two samples data groups are independent or not\\n---if the given data groups have the same variance. If the ratio is less than 4:1 then we can consider that the given data groups have equal variance.\\n---Whether the data elements in respective groups follow any normal distribution.\\n\\nH0 = Working Day has no effect on the number of electric cycles rented\\nH1 = Working day has effect on the number of electric cycles rented\\nSignificance level alpha = 0.05\\n\\n\\n'"
            ],
            "application/vnd.google.colaboratory.intrinsic+json": {
              "type": "string"
            }
          },
          "metadata": {},
          "execution_count": 20
        }
      ]
    },
    {
      "cell_type": "code",
      "source": [
        "fig,axis = plt.subplots(nrows = 1,ncols = 2,figsize = (9,7))\n",
        "sns.distplot(data[data['workingday']==0]['count'],ax=axis[0])\n",
        "sns.distplot(data[data['workingday']==1]['count'],ax=axis[1])"
      ],
      "metadata": {
        "colab": {
          "base_uri": "https://localhost:8080/",
          "height": 549
        },
        "id": "dFn5MhjYXCXa",
        "outputId": "3af351d4-59b9-486c-db3e-681f9b96a6fa"
      },
      "execution_count": null,
      "outputs": [
        {
          "output_type": "stream",
          "name": "stderr",
          "text": [
            "/usr/local/lib/python3.7/dist-packages/seaborn/distributions.py:2619: FutureWarning: `distplot` is a deprecated function and will be removed in a future version. Please adapt your code to use either `displot` (a figure-level function with similar flexibility) or `histplot` (an axes-level function for histograms).\n",
            "  warnings.warn(msg, FutureWarning)\n",
            "/usr/local/lib/python3.7/dist-packages/seaborn/distributions.py:2619: FutureWarning: `distplot` is a deprecated function and will be removed in a future version. Please adapt your code to use either `displot` (a figure-level function with similar flexibility) or `histplot` (an axes-level function for histograms).\n",
            "  warnings.warn(msg, FutureWarning)\n"
          ]
        },
        {
          "output_type": "execute_result",
          "data": {
            "text/plain": [
              "<matplotlib.axes._subplots.AxesSubplot at 0x7f2e63c6a610>"
            ]
          },
          "metadata": {},
          "execution_count": 21
        },
        {
          "output_type": "display_data",
          "data": {
            "text/plain": [
              "<Figure size 648x504 with 2 Axes>"
            ],
            "image/png": "[encoded data removed]"
          },
          "metadata": {
            "needs_background": "light"
          }
        }
      ]
    },
    {
      "cell_type": "code",
      "source": [
        "#Since data is not distributed normally, lets apply CLT to convert data into gaussian distribution"
      ],
      "metadata": {
        "id": "vAtpD-h2YIsL"
      },
      "execution_count": null,
      "outputs": []
    },
    {
      "cell_type": "code",
      "source": [
        "def calc_sample_mean0(sample_size,no_of_sample_means) :\n",
        "  mean = []\n",
        "  for i in range(no_of_sample_means) :\n",
        "    sample_count_work0 = data[data['workingday']==0]['count'].sample(n=sample_size,replace=True)\n",
        "    sample_work0_mean = sample_count_work0.mean()\n",
        "    mean.append(sample_work0_mean)\n",
        "  return mean\n",
        "data_working0 = np.array(calc_sample_mean0(100,1000))\n",
        "def calc_sample_mean1(sample_size,no_of_sample_means) :\n",
        "  mean = []\n",
        "  for i in range(no_of_sample_means) :\n",
        "    sample_count_work1 = data[data['workingday']==1]['count'].sample(n=sample_size,replace=True)\n",
        "    sample_work1_mean = sample_count_work1.mean()\n",
        "    mean.append(sample_work1_mean)\n",
        "  return mean\n",
        "data_working1 = np.array(calc_sample_mean1(100,1000))\n",
        "\n",
        "fig,axis = plt.subplots(nrows = 1,ncols = 2,figsize = (9,7))\n",
        "sns.distplot(data_working1,ax=axis[0])\n",
        "sns.distplot(data_working0,ax=axis[1])"
      ],
      "metadata": {
        "id": "4Erjx29hPMcT",
        "colab": {
          "base_uri": "https://localhost:8080/",
          "height": 536
        },
        "outputId": "f90b4456-3e1c-4ad4-8ca8-5aee0b28c3c8"
      },
      "execution_count": null,
      "outputs": [
        {
          "output_type": "stream",
          "name": "stderr",
          "text": [
            "/usr/local/lib/python3.7/dist-packages/seaborn/distributions.py:2619: FutureWarning: `distplot` is a deprecated function and will be removed in a future version. Please adapt your code to use either `displot` (a figure-level function with similar flexibility) or `histplot` (an axes-level function for histograms).\n",
            "  warnings.warn(msg, FutureWarning)\n",
            "/usr/local/lib/python3.7/dist-packages/seaborn/distributions.py:2619: FutureWarning: `distplot` is a deprecated function and will be removed in a future version. Please adapt your code to use either `displot` (a figure-level function with similar flexibility) or `histplot` (an axes-level function for histograms).\n",
            "  warnings.warn(msg, FutureWarning)\n"
          ]
        },
        {
          "output_type": "execute_result",
          "data": {
            "text/plain": [
              "<matplotlib.axes._subplots.AxesSubplot at 0x7f2e63adfd90>"
            ]
          },
          "metadata": {},
          "execution_count": 23
        },
        {
          "output_type": "display_data",
          "data": {
            "text/plain": [
              "<Figure size 648x504 with 2 Axes>"
            ],
            "image/png": "[encoded data removed]"
          },
          "metadata": {
            "needs_background": "light"
          }
        }
      ]
    },
    {
      "cell_type": "code",
      "source": [
        "#Chevking if data groups has equal variance\n",
        "print(data_working1.var()/data_working0.var())"
      ],
      "metadata": {
        "colab": {
          "base_uri": "https://localhost:8080/"
        },
        "id": "_zMe8ON5VTBg",
        "outputId": "62b91c59-b321-4449-9926-dd6a7fd6fbab"
      },
      "execution_count": null,
      "outputs": [
        {
          "output_type": "stream",
          "name": "stdout",
          "text": [
            "1.0129754198558871\n"
          ]
        }
      ]
    },
    {
      "cell_type": "code",
      "source": [
        "stats.ttest_ind(a=data_working0, b=data_working1, equal_var=True)\n",
        "#Here, since the p-value is less than alpha = 0.05 so we reject the null hypothesis of the test. We have sufficient evidence to say that Working day has effect on the number of electric cycles rented"
      ],
      "metadata": {
        "colab": {
          "base_uri": "https://localhost:8080/"
        },
        "id": "mdy3q4FHYxj8",
        "outputId": "3b065c30-12fd-47c6-aa29-5eb5ec9ca6cf"
      },
      "execution_count": null,
      "outputs": [
        {
          "output_type": "execute_result",
          "data": {
            "text/plain": [
              "Ttest_indResult(statistic=-6.594771568301287, pvalue=5.4358322960319895e-11)"
            ]
          },
          "metadata": {},
          "execution_count": 25
        }
      ]
    },
    {
      "cell_type": "code",
      "source": [
        "'''\n",
        "ANNOVA Test to determine - No. of cycles rented are similar or different in different weather\n",
        "To conduct the ANNOVA test sample data should comply : \n",
        "---Each observation is independent of any other observation \n",
        "---Values in each sampled groups to be drawn from normally distributed populations\n",
        "---Homogeneity of variance : If the ratio of the largest to the smallest sample standard deviation is less than 2, we consider the equal standard deviations assumption as fulfilled\n",
        "\n",
        "H0 : No. of cycles rented are similar in different weathers i.e mu_w1 = mu_w2 = mu_w3 = mu_w4\n",
        "H1 : No. of Cycles rented are not similar for atleast one weather\n",
        "\n",
        "Significence Level Alpha : 0.05\n",
        "\n",
        "'''\n",
        "\n"
      ],
      "metadata": {
        "id": "iF1zSrx1ZXZu",
        "colab": {
          "base_uri": "https://localhost:8080/",
          "height": 105
        },
        "outputId": "33907764-5f6c-4db4-e5c4-54ed08bb086c"
      },
      "execution_count": null,
      "outputs": [
        {
          "output_type": "execute_result",
          "data": {
            "text/plain": [
              "'\\nANNOVA Test to determine - No. of cycles rented are similar or different in different weather\\nTo conduct the ANNOVA test sample data should comply : \\n---Each observation is independent of any other observation \\n---Values in each sampled groups to be drawn from normally distributed populations\\n---Homogeneity of variance : If the ratio of the largest to the smallest sample standard deviation is less than 2, we consider the equal standard deviations assumption as fulfilled\\n\\nH0 : No. of cycles rented are similar in different weathers i.e mu_w1 = mu_w2 = mu_w3 = mu_w4\\nH1 : No. of Cycles rented are not similar for atleast one weather\\n\\nSignificence Level Alpha : 0.05\\n\\n'"
            ],
            "application/vnd.google.colaboratory.intrinsic+json": {
              "type": "string"
            }
          },
          "metadata": {},
          "execution_count": 26
        }
      ]
    },
    {
      "cell_type": "code",
      "source": [
        "fig,axis = plt.subplots(nrows = 2,ncols = 2,figsize = (9,7))\n",
        "sns.distplot(data[data['weather']==1]['count'],ax=axis[0,0])\n",
        "sns.distplot(data[data['weather']==2]['count'],ax=axis[0,1])\n",
        "sns.distplot(data[data['weather']==3]['count'],ax=axis[1,0])\n",
        "sns.distplot(data[data['weather']==4]['count'],ax=axis[1,1])"
      ],
      "metadata": {
        "colab": {
          "base_uri": "https://localhost:8080/",
          "height": 653
        },
        "id": "-17eDIaytEcB",
        "outputId": "542e5e06-d417-469c-d519-081cba69eb7b"
      },
      "execution_count": null,
      "outputs": [
        {
          "output_type": "stream",
          "name": "stderr",
          "text": [
            "/usr/local/lib/python3.7/dist-packages/seaborn/distributions.py:2619: FutureWarning: `distplot` is a deprecated function and will be removed in a future version. Please adapt your code to use either `displot` (a figure-level function with similar flexibility) or `histplot` (an axes-level function for histograms).\n",
            "  warnings.warn(msg, FutureWarning)\n",
            "/usr/local/lib/python3.7/dist-packages/seaborn/distributions.py:2619: FutureWarning: `distplot` is a deprecated function and will be removed in a future version. Please adapt your code to use either `displot` (a figure-level function with similar flexibility) or `histplot` (an axes-level function for histograms).\n",
            "  warnings.warn(msg, FutureWarning)\n",
            "/usr/local/lib/python3.7/dist-packages/seaborn/distributions.py:2619: FutureWarning: `distplot` is a deprecated function and will be removed in a future version. Please adapt your code to use either `displot` (a figure-level function with similar flexibility) or `histplot` (an axes-level function for histograms).\n",
            "  warnings.warn(msg, FutureWarning)\n",
            "/usr/local/lib/python3.7/dist-packages/seaborn/distributions.py:2619: FutureWarning: `distplot` is a deprecated function and will be removed in a future version. Please adapt your code to use either `displot` (a figure-level function with similar flexibility) or `histplot` (an axes-level function for histograms).\n",
            "  warnings.warn(msg, FutureWarning)\n",
            "/usr/local/lib/python3.7/dist-packages/seaborn/distributions.py:316: UserWarning: Dataset has 0 variance; skipping density estimate. Pass `warn_singular=False` to disable this warning.\n",
            "  warnings.warn(msg, UserWarning)\n"
          ]
        },
        {
          "output_type": "execute_result",
          "data": {
            "text/plain": [
              "<matplotlib.axes._subplots.AxesSubplot at 0x7f2e6391f5d0>"
            ]
          },
          "metadata": {},
          "execution_count": 27
        },
        {
          "output_type": "display_data",
          "data": {
            "text/plain": [
              "<Figure size 648x504 with 4 Axes>"
            ],
            "image/png": "[encoded data removed]"
          },
          "metadata": {
            "needs_background": "light"
          }
        }
      ]
    },
    {
      "cell_type": "code",
      "source": [
        "#Since data is not distributed normally, lets apply CLT to convert data into gaussian distribution"
      ],
      "metadata": {
        "id": "m9ClgWPLub7Z"
      },
      "execution_count": null,
      "outputs": []
    },
    {
      "cell_type": "code",
      "source": [
        "def calc_sample_mean_w1(sample_size,no_of_sample_means) :\n",
        "  mean = []\n",
        "  for i in range(no_of_sample_means) :\n",
        "    sample_count_w1 = data[data['weather']==1]['count'].sample(n=sample_size,replace='True')\n",
        "    sample_w1_mean = sample_count_w1.mean()\n",
        "    mean.append(sample_w1_mean)\n",
        "  return mean\n",
        "data_weather_1 = calc_sample_mean_w1(100,1000)\n",
        "def calc_sample_mean_w2(sample_size,no_of_sample_means) :\n",
        "  mean = []\n",
        "  for i in range(no_of_sample_means) :\n",
        "    sample_count_w2 = data[data['weather']==2]['count'].sample(n=sample_size,replace='True')\n",
        "    sample_w2_mean = sample_count_w2.mean()\n",
        "    mean.append(sample_w2_mean)\n",
        "  return mean\n",
        "data_weather_2 = calc_sample_mean_w2(100,1000)\n",
        "def calc_sample_mean_w3(sample_size,no_of_sample_means) :\n",
        "  mean = []\n",
        "  for i in range(no_of_sample_means) :\n",
        "    sample_count_w3 = data[data['weather']==3]['count'].sample(n=sample_size,replace='True')\n",
        "    sample_w3_mean = sample_count_w3.mean()\n",
        "    mean.append(sample_w3_mean)\n",
        "  return mean\n",
        "data_weather_3 = calc_sample_mean_w3(100,1000)\n",
        "def calc_sample_mean_w4(sample_size,no_of_sample_means) :\n",
        "  mean = []\n",
        "  for i in range(no_of_sample_means) :\n",
        "    sample_count_w4 = data[data['weather']==4]['count'].sample(n=sample_size,replace='True')\n",
        "    sample_w4_mean = sample_count_w4.mean()\n",
        "    mean.append(sample_w4_mean)\n",
        "  return mean\n",
        "data_weather_4 = calc_sample_mean_w4(100,1000)"
      ],
      "metadata": {
        "id": "SSGTnXRMudCk"
      },
      "execution_count": null,
      "outputs": []
    },
    {
      "cell_type": "code",
      "source": [
        "fig,axis = plt.subplots(nrows = 2,ncols = 2,figsize = (9,7))\n",
        "sns.distplot(data_weather_1,ax=axis[0,0])\n",
        "sns.distplot(data_weather_2,ax=axis[0,1])\n",
        "sns.distplot(data_weather_3,ax=axis[1,0])\n",
        "sns.distplot(data_weather_4,ax=axis[1,1])"
      ],
      "metadata": {
        "colab": {
          "base_uri": "https://localhost:8080/",
          "height": 639
        },
        "id": "sSDjFphZyA3M",
        "outputId": "81ec3baf-7df7-471a-bd30-1d9ca559fbfc"
      },
      "execution_count": null,
      "outputs": [
        {
          "output_type": "stream",
          "name": "stderr",
          "text": [
            "/usr/local/lib/python3.7/dist-packages/seaborn/distributions.py:2619: FutureWarning: `distplot` is a deprecated function and will be removed in a future version. Please adapt your code to use either `displot` (a figure-level function with similar flexibility) or `histplot` (an axes-level function for histograms).\n",
            "  warnings.warn(msg, FutureWarning)\n",
            "/usr/local/lib/python3.7/dist-packages/seaborn/distributions.py:2619: FutureWarning: `distplot` is a deprecated function and will be removed in a future version. Please adapt your code to use either `displot` (a figure-level function with similar flexibility) or `histplot` (an axes-level function for histograms).\n",
            "  warnings.warn(msg, FutureWarning)\n",
            "/usr/local/lib/python3.7/dist-packages/seaborn/distributions.py:2619: FutureWarning: `distplot` is a deprecated function and will be removed in a future version. Please adapt your code to use either `displot` (a figure-level function with similar flexibility) or `histplot` (an axes-level function for histograms).\n",
            "  warnings.warn(msg, FutureWarning)\n",
            "/usr/local/lib/python3.7/dist-packages/seaborn/distributions.py:2619: FutureWarning: `distplot` is a deprecated function and will be removed in a future version. Please adapt your code to use either `displot` (a figure-level function with similar flexibility) or `histplot` (an axes-level function for histograms).\n",
            "  warnings.warn(msg, FutureWarning)\n",
            "/usr/local/lib/python3.7/dist-packages/seaborn/distributions.py:316: UserWarning: Dataset has 0 variance; skipping density estimate. Pass `warn_singular=False` to disable this warning.\n",
            "  warnings.warn(msg, UserWarning)\n"
          ]
        },
        {
          "output_type": "execute_result",
          "data": {
            "text/plain": [
              "<matplotlib.axes._subplots.AxesSubplot at 0x7f2e63655050>"
            ]
          },
          "metadata": {},
          "execution_count": 30
        },
        {
          "output_type": "display_data",
          "data": {
            "text/plain": [
              "<Figure size 648x504 with 4 Axes>"
            ],
            "image/png": "[encoded data removed]"
          },
          "metadata": {
            "needs_background": "light"
          }
        }
      ]
    },
    {
      "cell_type": "code",
      "source": [
        "'''Since the p-value is less than 0.05 hence we would reject the null hypothesis. \n",
        "This implies that we have sufficient proof to say that there exists a difference in the no. of cycle rented in different weather. \n",
        "'''\n",
        "f_oneway(data_weather_1, data_weather_2, data_weather_3, data_weather_4)"
      ],
      "metadata": {
        "colab": {
          "base_uri": "https://localhost:8080/"
        },
        "id": "fUTKMutszB1z",
        "outputId": "c9697f9e-45d5-4e65-9874-befb4f0d5dcb"
      },
      "execution_count": null,
      "outputs": [
        {
          "output_type": "execute_result",
          "data": {
            "text/plain": [
              "F_onewayResult(statistic=5922.891559501811, pvalue=0.0)"
            ]
          },
          "metadata": {},
          "execution_count": 31
        }
      ]
    },
    {
      "cell_type": "code",
      "source": [
        "'''\n",
        "ANNOVA Test to determine weather No. of cycles rented are similar or different in different seasons\n",
        "To conduct the ANNOVA test sample data should comply : \n",
        "---Each observation is independent of any other observation \n",
        "---Values in each sampled groups to be drawn from normally distributed populations\n",
        "---Homogeneity of variance : If the ratio of the largest to the smallest sample standard deviation is less than 2, we consider the equal standard deviations assumption as fulfilled\n",
        "\n",
        "H0 : No. of cycles rented are similar in different seasons i.e mu_s1 = mu_s2 = mu_s3 = mu_s4\n",
        "H1 : No. of Cycles rented are not similar for atleast one season\n",
        "\n",
        "Significence Level Alpha : 0.05\n",
        "\n",
        "'''\n"
      ],
      "metadata": {
        "id": "np805-G6HhMO",
        "colab": {
          "base_uri": "https://localhost:8080/",
          "height": 105
        },
        "outputId": "1c4a6b9d-bf07-4131-98f8-501814491c24"
      },
      "execution_count": null,
      "outputs": [
        {
          "output_type": "execute_result",
          "data": {
            "text/plain": [
              "'\\nANNOVA Test to determine weather No. of cycles rented are similar or different in different seasons\\nTo conduct the ANNOVA test sample data should comply : \\n---Each observation is independent of any other observation \\n---Values in each sampled groups to be drawn from normally distributed populations\\n---Homogeneity of variance : If the ratio of the largest to the smallest sample standard deviation is less than 2, we consider the equal standard deviations assumption as fulfilled\\n\\nH0 : No. of cycles rented are similar in different seasons i.e mu_s1 = mu_s2 = mu_s3 = mu_s4\\nH1 : No. of Cycles rented are not similar for atleast one season\\n\\nSignificence Level Alpha : 0.05\\n\\n'"
            ],
            "application/vnd.google.colaboratory.intrinsic+json": {
              "type": "string"
            }
          },
          "metadata": {},
          "execution_count": 32
        }
      ]
    },
    {
      "cell_type": "code",
      "source": [
        "fig,axis = plt.subplots(nrows = 2,ncols = 2,figsize = (9,7))\n",
        "sns.distplot(data[data['season']==1]['count'],ax=axis[0,0])\n",
        "sns.distplot(data[data['season']==2]['count'],ax=axis[0,1])\n",
        "sns.distplot(data[data['season']==3]['count'],ax=axis[1,0])\n",
        "sns.distplot(data[data['season']==4]['count'],ax=axis[1,1])"
      ],
      "metadata": {
        "colab": {
          "base_uri": "https://localhost:8080/",
          "height": 620
        },
        "id": "IGEzyKwEIcYH",
        "outputId": "c7b6f47f-8c85-4f8e-ac8d-424a3fda8687"
      },
      "execution_count": null,
      "outputs": [
        {
          "output_type": "stream",
          "name": "stderr",
          "text": [
            "/usr/local/lib/python3.7/dist-packages/seaborn/distributions.py:2619: FutureWarning: `distplot` is a deprecated function and will be removed in a future version. Please adapt your code to use either `displot` (a figure-level function with similar flexibility) or `histplot` (an axes-level function for histograms).\n",
            "  warnings.warn(msg, FutureWarning)\n",
            "/usr/local/lib/python3.7/dist-packages/seaborn/distributions.py:2619: FutureWarning: `distplot` is a deprecated function and will be removed in a future version. Please adapt your code to use either `displot` (a figure-level function with similar flexibility) or `histplot` (an axes-level function for histograms).\n",
            "  warnings.warn(msg, FutureWarning)\n",
            "/usr/local/lib/python3.7/dist-packages/seaborn/distributions.py:2619: FutureWarning: `distplot` is a deprecated function and will be removed in a future version. Please adapt your code to use either `displot` (a figure-level function with similar flexibility) or `histplot` (an axes-level function for histograms).\n",
            "  warnings.warn(msg, FutureWarning)\n",
            "/usr/local/lib/python3.7/dist-packages/seaborn/distributions.py:2619: FutureWarning: `distplot` is a deprecated function and will be removed in a future version. Please adapt your code to use either `displot` (a figure-level function with similar flexibility) or `histplot` (an axes-level function for histograms).\n",
            "  warnings.warn(msg, FutureWarning)\n"
          ]
        },
        {
          "output_type": "execute_result",
          "data": {
            "text/plain": [
              "<matplotlib.axes._subplots.AxesSubplot at 0x7f2e6336e690>"
            ]
          },
          "metadata": {},
          "execution_count": 33
        },
        {
          "output_type": "display_data",
          "data": {
            "text/plain": [
              "<Figure size 648x504 with 4 Axes>"
            ],
            "image/png": "[encoded data removed]"
          },
          "metadata": {
            "needs_background": "light"
          }
        }
      ]
    },
    {
      "cell_type": "code",
      "source": [
        "#Since data is not distributed normally, lets apply CLT to convert data into gaussian distribution"
      ],
      "metadata": {
        "id": "uZ7Z81KQIrEt"
      },
      "execution_count": null,
      "outputs": []
    },
    {
      "cell_type": "code",
      "source": [
        "def calc_sample_mean_s1(sample_size,no_of_sample_means) :\n",
        "  mean = []\n",
        "  for i in range(no_of_sample_means) :\n",
        "    sample_count_s1 = data[data['season']==1]['count'].sample(n=sample_size,replace='True')\n",
        "    sample_s1_mean = sample_count_s1.mean()\n",
        "    mean.append(sample_s1_mean)\n",
        "  return mean\n",
        "data_season_1 = calc_sample_mean_s1(100,1000)\n",
        "def calc_sample_mean_s2(sample_size,no_of_sample_means) :\n",
        "  mean = []\n",
        "  for i in range(no_of_sample_means) :\n",
        "    sample_count_s2 = data[data['season']==2]['count'].sample(n=sample_size,replace='True')\n",
        "    sample_s2_mean = sample_count_s2.mean()\n",
        "    mean.append(sample_s2_mean)\n",
        "  return mean\n",
        "data_season_2 = calc_sample_mean_s2(100,1000)\n",
        "def calc_sample_mean_s3(sample_size,no_of_sample_means) :\n",
        "  mean = []\n",
        "  for i in range(no_of_sample_means) :\n",
        "    sample_count_s3 = data[data['season']==3]['count'].sample(n=sample_size,replace='True')\n",
        "    sample_s3_mean = sample_count_s3.mean()\n",
        "    mean.append(sample_s3_mean)\n",
        "  return mean\n",
        "data_season_3 = calc_sample_mean_s3(100,1000)\n",
        "def calc_sample_mean_s4(sample_size,no_of_sample_means) :\n",
        "  mean = []\n",
        "  for i in range(no_of_sample_means) :\n",
        "    sample_count_s4 = data[data['season']==4]['count'].sample(n=sample_size,replace='True')\n",
        "    sample_s4_mean = sample_count_s4.mean()\n",
        "    mean.append(sample_s4_mean)\n",
        "  return mean\n",
        "data_season_4 = calc_sample_mean_s4(100,1000)"
      ],
      "metadata": {
        "id": "-ieIzIfPIvho"
      },
      "execution_count": null,
      "outputs": []
    },
    {
      "cell_type": "code",
      "source": [
        "fig,axis = plt.subplots(nrows = 2,ncols = 2,figsize = (9,7))\n",
        "sns.distplot(data_season_1,ax=axis[0,0])\n",
        "sns.distplot(data_season_2,ax=axis[0,1])\n",
        "sns.distplot(data_season_3,ax=axis[1,0])\n",
        "sns.distplot(data_season_4,ax=axis[1,1])"
      ],
      "metadata": {
        "colab": {
          "base_uri": "https://localhost:8080/",
          "height": 608
        },
        "id": "VboXTW9CJ_lh",
        "outputId": "5029e321-e65f-4a64-d0a7-e80fbfd82ddd"
      },
      "execution_count": null,
      "outputs": [
        {
          "output_type": "stream",
          "name": "stderr",
          "text": [
            "/usr/local/lib/python3.7/dist-packages/seaborn/distributions.py:2619: FutureWarning: `distplot` is a deprecated function and will be removed in a future version. Please adapt your code to use either `displot` (a figure-level function with similar flexibility) or `histplot` (an axes-level function for histograms).\n",
            "  warnings.warn(msg, FutureWarning)\n",
            "/usr/local/lib/python3.7/dist-packages/seaborn/distributions.py:2619: FutureWarning: `distplot` is a deprecated function and will be removed in a future version. Please adapt your code to use either `displot` (a figure-level function with similar flexibility) or `histplot` (an axes-level function for histograms).\n",
            "  warnings.warn(msg, FutureWarning)\n",
            "/usr/local/lib/python3.7/dist-packages/seaborn/distributions.py:2619: FutureWarning: `distplot` is a deprecated function and will be removed in a future version. Please adapt your code to use either `displot` (a figure-level function with similar flexibility) or `histplot` (an axes-level function for histograms).\n",
            "  warnings.warn(msg, FutureWarning)\n",
            "/usr/local/lib/python3.7/dist-packages/seaborn/distributions.py:2619: FutureWarning: `distplot` is a deprecated function and will be removed in a future version. Please adapt your code to use either `displot` (a figure-level function with similar flexibility) or `histplot` (an axes-level function for histograms).\n",
            "  warnings.warn(msg, FutureWarning)\n"
          ]
        },
        {
          "output_type": "execute_result",
          "data": {
            "text/plain": [
              "<matplotlib.axes._subplots.AxesSubplot at 0x7f2e6309ab10>"
            ]
          },
          "metadata": {},
          "execution_count": 36
        },
        {
          "output_type": "display_data",
          "data": {
            "text/plain": [
              "<Figure size 648x504 with 4 Axes>"
            ],
            "image/png": "[encoded data removed]"
          },
          "metadata": {
            "needs_background": "light"
          }
        }
      ]
    },
    {
      "cell_type": "code",
      "source": [
        "'''Since the p-value is less than 0.05 hence we would reject the null hypothesis. \n",
        "This implies that we have sufficient proof to say that there exists a difference in the no. of cycle rented in different seasons. \n",
        "'''\n",
        "f_oneway(data_season_1, data_season_2, data_season_3, data_season_4)"
      ],
      "metadata": {
        "colab": {
          "base_uri": "https://localhost:8080/"
        },
        "id": "1RSoZXz8KPl5",
        "outputId": "30d19751-1d36-4d95-a19b-a3ba121f471d"
      },
      "execution_count": null,
      "outputs": [
        {
          "output_type": "execute_result",
          "data": {
            "text/plain": [
              "F_onewayResult(statistic=8808.492105992002, pvalue=0.0)"
            ]
          },
          "metadata": {},
          "execution_count": 37
        }
      ]
    },
    {
      "cell_type": "code",
      "source": [
        "'''\n",
        "Chi-square test to check if Weather is dependent on the season \n",
        "\n",
        "Below stated holds true for data, thus we can carry out Chi-square test\n",
        "--Both variables are categorical\n",
        "--All observations are independent\n",
        "--Cells in the contingency table are mutually exclusive.\n",
        "--Expected value of cells should be 5 or greater in at least 80% of cells.\n",
        "\n",
        "H0 : There is no relation between the variables weather and season. \n",
        "H1 : There is a significant relation between the two.\n",
        "\n",
        "d.o.f = (4-1)*(4-1) = 9\n",
        "alpha = 0.05\n",
        "''' \n"
      ],
      "metadata": {
        "id": "1dZ-LgnBK9qQ",
        "colab": {
          "base_uri": "https://localhost:8080/",
          "height": 87
        },
        "outputId": "6768ac9e-24c2-4b9a-ee8a-15ca7add4baa"
      },
      "execution_count": null,
      "outputs": [
        {
          "output_type": "execute_result",
          "data": {
            "text/plain": [
              "'\\nChi-square test to check if Weather is dependent on the season \\n\\nBelow stated holds true for data, thus we can carry out Chi-square test\\n--Both variables are categorical\\n--All observations are independent\\n--Cells in the contingency table are mutually exclusive.\\n--Expected value of cells should be 5 or greater in at least 80% of cells.\\n\\nH0 : There is no relation between the variables weather and season. \\nH1 : An alternate hypothesis would state that there is a significant relation between the two.\\n'"
            ],
            "application/vnd.google.colaboratory.intrinsic+json": {
              "type": "string"
            }
          },
          "metadata": {},
          "execution_count": 38
        }
      ]
    },
    {
      "cell_type": "code",
      "source": [
        "# creating contingency table\n",
        "data_crosstab = pd.crosstab(data['season'],\n",
        "                            data['weather'],\n",
        "                           margins=True, margins_name=\"Total\")\n",
        "data_crosstab"
      ],
      "metadata": {
        "colab": {
          "base_uri": "https://localhost:8080/",
          "height": 238
        },
        "id": "fciAHF3k-TAF",
        "outputId": "da1cc2d3-d9f1-43cd-db3d-30cfead1f9b7"
      },
      "execution_count": null,
      "outputs": [
        {
          "output_type": "execute_result",
          "data": {
            "text/plain": [
              "weather     1     2    3  4  Total\n",
              "season                            \n",
              "1        1759   715  211  1   2686\n",
              "2        1801   708  224  0   2733\n",
              "3        1930   604  199  0   2733\n",
              "4        1702   807  225  0   2734\n",
              "Total    7192  2834  859  1  10886"
            ],
            "text/html": [
              "\n",
              "  <div id=\"df-65466ae3-21b0-4f82-9fde-27905bf94b4c\">\n",
              "    <div class=\"colab-df-container\">\n",
              "      <div>\n",
              "<style scoped>\n",
              "    .dataframe tbody tr th:only-of-type {\n",
              "        vertical-align: middle;\n",
              "    }\n",
              "\n",
              "    .dataframe tbody tr th {\n",
              "        vertical-align: top;\n",
              "    }\n",
              "\n",
              "    .dataframe thead th {\n",
              "        text-align: right;\n",
              "    }\n",
              "</style>\n",
              "<table border=\"1\" class=\"dataframe\">\n",
              "  <thead>\n",
              "    <tr style=\"text-align: right;\">\n",
              "      <th>weather</th>\n",
              "      <th>1</th>\n",
              "      <th>2</th>\n",
              "      <th>3</th>\n",
              "      <th>4</th>\n",
              "      <th>Total</th>\n",
              "    </tr>\n",
              "    <tr>\n",
              "      <th>season</th>\n",
              "      <th></th>\n",
              "      <th></th>\n",
              "      <th></th>\n",
              "      <th></th>\n",
              "      <th></th>\n",
              "    </tr>\n",
              "  </thead>\n",
              "  <tbody>\n",
              "    <tr>\n",
              "      <th>1</th>\n",
              "      <td>1759</td>\n",
              "      <td>715</td>\n",
              "      <td>211</td>\n",
              "      <td>1</td>\n",
              "      <td>2686</td>\n",
              "    </tr>\n",
              "    <tr>\n",
              "      <th>2</th>\n",
              "      <td>1801</td>\n",
              "      <td>708</td>\n",
              "      <td>224</td>\n",
              "      <td>0</td>\n",
              "      <td>2733</td>\n",
              "    </tr>\n",
              "    <tr>\n",
              "      <th>3</th>\n",
              "      <td>1930</td>\n",
              "      <td>604</td>\n",
              "      <td>199</td>\n",
              "      <td>0</td>\n",
              "      <td>2733</td>\n",
              "    </tr>\n",
              "    <tr>\n",
              "      <th>4</th>\n",
              "      <td>1702</td>\n",
              "      <td>807</td>\n",
              "      <td>225</td>\n",
              "      <td>0</td>\n",
              "      <td>2734</td>\n",
              "    </tr>\n",
              "    <tr>\n",
              "      <th>Total</th>\n",
              "      <td>7192</td>\n",
              "      <td>2834</td>\n",
              "      <td>859</td>\n",
              "      <td>1</td>\n",
              "      <td>10886</td>\n",
              "    </tr>\n",
              "  </tbody>\n",
              "</table>\n",
              "</div>\n",
              "      <button class=\"colab-df-convert\" onclick=\"convertToInteractive('df-65466ae3-21b0-4f82-9fde-27905bf94b4c')\"\n",
              "              title=\"Convert this dataframe to an interactive table.\"\n",
              "              style=\"display:none;\">\n",
              "        \n",
              "  <svg xmlns=\"http://www.w3.org/2000/svg\" height=\"24px\"viewBox=\"0 0 24 24\"\n",
              "       width=\"24px\">\n",
              "    <path d=\"M0 0h24v24H0V0z\" fill=\"none\"/>\n",
              "    <path d=\"M18.56 5.44l.94 2.06.94-2.06 2.06-.94-2.06-.94-.94-2.06-.94 2.06-2.06.94zm-11 1L8.5 8.5l.94-2.06 2.06-.94-2.06-.94L8.5 2.5l-.94 2.06-2.06.94zm10 10l.94 2.06.94-2.06 2.06-.94-2.06-.94-.94-2.06-.94 2.06-2.06.94z\"/><path d=\"M17.41 7.96l-1.37-1.37c-.4-.4-.92-.59-1.43-.59-.52 0-1.04.2-1.43.59L10.3 9.45l-7.72 7.72c-.78.78-.78 2.05 0 2.83L4 21.41c.39.39.9.59 1.41.59.51 0 1.02-.2 1.41-.59l7.78-7.78 2.81-2.81c.8-.78.8-2.07 0-2.86zM5.41 20L4 18.59l7.72-7.72 1.47 1.35L5.41 20z\"/>\n",
              "  </svg>\n",
              "      </button>\n",
              "      \n",
              "  <style>\n",
              "    .colab-df-container {\n",
              "      display:flex;\n",
              "      flex-wrap:wrap;\n",
              "      gap: 12px;\n",
              "    }\n",
              "\n",
              "    .colab-df-convert {\n",
              "      background-color: #E8F0FE;\n",
              "      border: none;\n",
              "      border-radius: 50%;\n",
              "      cursor: pointer;\n",
              "      display: none;\n",
              "      fill: #1967D2;\n",
              "      height: 32px;\n",
              "      padding: 0 0 0 0;\n",
              "      width: 32px;\n",
              "    }\n",
              "\n",
              "    .colab-df-convert:hover {\n",
              "      background-color: #E2EBFA;\n",
              "      box-shadow: 0px 1px 2px rgba(60, 64, 67, 0.3), 0px 1px 3px 1px rgba(60, 64, 67, 0.15);\n",
              "      fill: #174EA6;\n",
              "    }\n",
              "\n",
              "    [theme=dark] .colab-df-convert {\n",
              "      background-color: #3B4455;\n",
              "      fill: #D2E3FC;\n",
              "    }\n",
              "\n",
              "    [theme=dark] .colab-df-convert:hover {\n",
              "      background-color: #434B5C;\n",
              "      box-shadow: 0px 1px 3px 1px rgba(0, 0, 0, 0.15);\n",
              "      filter: drop-shadow(0px 1px 2px rgba(0, 0, 0, 0.3));\n",
              "      fill: #FFFFFF;\n",
              "    }\n",
              "  </style>\n",
              "\n",
              "      <script>\n",
              "        const buttonEl =\n",
              "          document.querySelector('#df-65466ae3-21b0-4f82-9fde-27905bf94b4c button.colab-df-convert');\n",
              "        buttonEl.style.display =\n",
              "          google.colab.kernel.accessAllowed ? 'block' : 'none';\n",
              "\n",
              "        async function convertToInteractive(key) {\n",
              "          const element = document.querySelector('#df-65466ae3-21b0-4f82-9fde-27905bf94b4c');\n",
              "          const dataTable =\n",
              "            await google.colab.kernel.invokeFunction('convertToInteractive',\n",
              "                                                     [key], {});\n",
              "          if (!dataTable) return;\n",
              "\n",
              "          const docLinkHtml = 'Like what you see? Visit the ' +\n",
              "            '<a target=\"_blank\" href=https://colab.research.google.com/notebooks/data_table.ipynb>data table notebook</a>'\n",
              "            + ' to learn more about interactive tables.';\n",
              "          element.innerHTML = '';\n",
              "          dataTable['output_type'] = 'display_data';\n",
              "          await google.colab.output.renderOutput(dataTable, element);\n",
              "          const docLink = document.createElement('div');\n",
              "          docLink.innerHTML = docLinkHtml;\n",
              "          element.appendChild(docLink);\n",
              "        }\n",
              "      </script>\n",
              "    </div>\n",
              "  </div>\n",
              "  "
            ]
          },
          "metadata": {},
          "execution_count": 41
        }
      ]
    },
    {
      "cell_type": "code",
      "source": [
        "# Calcualtion of Chisquare\n",
        "chi_square = 0\n",
        "rows = data['season'].unique()\n",
        "columns = data['weather'].unique()\n",
        "for i in columns:\n",
        "    for j in rows:\n",
        "        O = data_crosstab[i][j]\n",
        "        E = data_crosstab[i]['Total'] * data_crosstab['Total'][j] / data_crosstab['Total']['Total']\n",
        "        chi_square += (O-E)**2/E\n",
        "chi_square"
      ],
      "metadata": {
        "colab": {
          "base_uri": "https://localhost:8080/"
        },
        "id": "ISJohivgA0bv",
        "outputId": "9679f58c-145b-4c79-9f40-9c3e1a0d1d4b"
      },
      "execution_count": null,
      "outputs": [
        {
          "output_type": "execute_result",
          "data": {
            "text/plain": [
              "49.15865559689362"
            ]
          },
          "metadata": {},
          "execution_count": 42
        }
      ]
    },
    {
      "cell_type": "code",
      "source": [
        "#Calculation of Critical Value\n",
        "critical_value = stats.chi2.ppf(1-0.05, (len(rows)-1)*(len(columns)-1))\n",
        "critical_value"
      ],
      "metadata": {
        "colab": {
          "base_uri": "https://localhost:8080/"
        },
        "id": "RAzNRhqvB04E",
        "outputId": "add02aaa-fe68-49a9-8b10-6b87a328775c"
      },
      "execution_count": null,
      "outputs": [
        {
          "output_type": "execute_result",
          "data": {
            "text/plain": [
              "16.918977604620448"
            ]
          },
          "metadata": {},
          "execution_count": 44
        }
      ]
    },
    {
      "cell_type": "code",
      "source": [
        "# Since chi_square > critical_value , \n",
        "# Conclusion: We have enough evidence that there is an association between season and weather, at 5% significance level.\n"
      ],
      "metadata": {
        "id": "y9XN_x97CK9R"
      },
      "execution_count": null,
      "outputs": []
    }
  ]
}